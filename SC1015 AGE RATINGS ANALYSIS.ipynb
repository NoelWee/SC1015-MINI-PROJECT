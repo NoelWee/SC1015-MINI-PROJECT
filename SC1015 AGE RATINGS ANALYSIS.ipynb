{
 "cells": [
  {
   "cell_type": "code",
   "execution_count": 1,
   "id": "2ef62240",
   "metadata": {},
   "outputs": [],
   "source": [
    "# Basic Libraries\n",
    "import numpy as np\n",
    "import pandas as pd\n",
    "import seaborn as sb\n",
    "import matplotlib.pyplot as plt\n",
    "from kmodes.kmodes import KModes\n",
    "from sklearn import preprocessing\n",
    "from sklearn import utils\n",
    "from sklearn.metrics import silhouette_samples, silhouette_score\n",
    "%matplotlib inline\n",
    "sb.set()"
   ]
  },
  {
   "cell_type": "markdown",
   "id": "57c0df39",
   "metadata": {},
   "source": [
    "## IMPORTING AND CLEANING DATASET"
   ]
  },
  {
   "cell_type": "code",
   "execution_count": 2,
   "id": "cece5cc3",
   "metadata": {},
   "outputs": [
    {
     "name": "stderr",
     "output_type": "stream",
     "text": [
      "/opt/anaconda3/lib/python3.9/site-packages/IPython/core/interactiveshell.py:3444: DtypeWarning: Columns (19,20,21,22,23,24,25,26,27,28,48,49,50,51,52,53,54,55,58,59,60,67,68,69,70,71,72,73,74,87,88) have mixed types.Specify dtype option on import or set low_memory=False.\n",
      "  exec(code_obj, self.user_global_ns, self.user_ns)\n"
     ]
    }
   ],
   "source": [
    "#IMPORTING ANIME.CSV\n",
    "\n",
    "animeDF = pd.read_csv('anime.csv')"
   ]
  },
  {
   "cell_type": "code",
   "execution_count": 3,
   "id": "04f277f2",
   "metadata": {},
   "outputs": [
    {
     "name": "stdout",
     "output_type": "stream",
     "text": [
      "<class 'pandas.core.frame.DataFrame'>\n",
      "RangeIndex: 17562 entries, 0 to 17561\n",
      "Data columns (total 99 columns):\n",
      " #   Column                 Non-Null Count  Dtype \n",
      "---  ------                 --------------  ----- \n",
      " 0   MAL_ID                 17562 non-null  int64 \n",
      " 1   Name                   17562 non-null  object\n",
      " 2   Score                  17562 non-null  object\n",
      " 3   Genres                 17562 non-null  object\n",
      " 4   Genre 1                17562 non-null  object\n",
      " 5   Genre2                 13270 non-null  object\n",
      " 6   Genre 2                13270 non-null  object\n",
      " 7   Genre3                 9029 non-null   object\n",
      " 8   Genre 3                9029 non-null   object\n",
      " 9   Genre4                 5534 non-null   object\n",
      " 10  Genre 4                5534 non-null   object\n",
      " 11  Genre5                 2959 non-null   object\n",
      " 12  Genre 5                2959 non-null   object\n",
      " 13  Genre6                 1237 non-null   object\n",
      " 14  Genre 6                1237 non-null   object\n",
      " 15  Genre7                 439 non-null    object\n",
      " 16  Genre 7                439 non-null    object\n",
      " 17  Genre8                 143 non-null    object\n",
      " 18  Genre 8                143 non-null    object\n",
      " 19  Genre9                 58 non-null     object\n",
      " 20  Genre 9                58 non-null     object\n",
      " 21  Genre10                21 non-null     object\n",
      " 22  Genre 10               21 non-null     object\n",
      " 23  Genre11                7 non-null      object\n",
      " 24  Genre 11               7 non-null      object\n",
      " 25  Genre12                1 non-null      object\n",
      " 26  Genre 12               1 non-null      object\n",
      " 27  Genre13                1 non-null      object\n",
      " 28  Genre 13               1 non-null      object\n",
      " 29  English name           17562 non-null  object\n",
      " 30  Japanese name          17562 non-null  object\n",
      " 31  Type                   17562 non-null  object\n",
      " 32  Episodes               17562 non-null  object\n",
      " 33  Aired                  17562 non-null  object\n",
      " 34  Premiered              17562 non-null  object\n",
      " 35  Producers              17562 non-null  object\n",
      " 36  Producer 1             17562 non-null  object\n",
      " 37  Producer 2             4037 non-null   object\n",
      " 38  Producer 3             2163 non-null   object\n",
      " 39  Producer 4             1418 non-null   object\n",
      " 40  Producer 5             981 non-null    object\n",
      " 41  Producer 6             645 non-null    object\n",
      " 42  Producer 7             392 non-null    object\n",
      " 43  Producer 8             237 non-null    object\n",
      " 44  Producer 9             155 non-null    object\n",
      " 45  Producer 10            75 non-null     object\n",
      " 46  Producer 11            43 non-null     object\n",
      " 47  Producer 12            23 non-null     object\n",
      " 48  Producer 13            11 non-null     object\n",
      " 49  Producer 14            7 non-null      object\n",
      " 50  Producer 15            6 non-null      object\n",
      " 51  Producer 16            5 non-null      object\n",
      " 52  Producer 17            5 non-null      object\n",
      " 53  Producer 18            3 non-null      object\n",
      " 54  Producer 19            3 non-null      object\n",
      " 55  Producer 20            1 non-null      object\n",
      " 56  Licensors              17562 non-null  object\n",
      " 57  Licensor 1             17562 non-null  object\n",
      " 58  Licensor 2             756 non-null    object\n",
      " 59  Licensor 3             51 non-null     object\n",
      " 60  Licensor 4             5 non-null      object\n",
      " 61  Studios                17562 non-null  object\n",
      " 62  Studio 1               17562 non-null  object\n",
      " 63  Studio2                759 non-null    object\n",
      " 64  Studio 2               759 non-null    object\n",
      " 65  Studio3                46 non-null     object\n",
      " 66  Studio 3               46 non-null     object\n",
      " 67  Studio4                4 non-null      object\n",
      " 68  Studio 4               4 non-null      object\n",
      " 69  Studio5                1 non-null      object\n",
      " 70  Studio 5               1 non-null      object\n",
      " 71  Studio6                1 non-null      object\n",
      " 72  Studio 6               1 non-null      object\n",
      " 73  Studio7                1 non-null      object\n",
      " 74  Studio 7               1 non-null      object\n",
      " 75  Source                 17562 non-null  object\n",
      " 76  Duration               17562 non-null  object\n",
      " 77  Rating                 17562 non-null  object\n",
      " 78  Ranked                 17562 non-null  object\n",
      " 79  Popularity             17562 non-null  int64 \n",
      " 80  Members                17562 non-null  int64 \n",
      " 81  Favorites              17562 non-null  int64 \n",
      " 82  Watching               17562 non-null  int64 \n",
      " 83  Completed              17562 non-null  int64 \n",
      " 84  On-Hold                17562 non-null  int64 \n",
      " 85  Dropped                17562 non-null  int64 \n",
      " 86  Plan to Watch          17562 non-null  int64 \n",
      " 87  Completion Percentage  17562 non-null  object\n",
      " 88  Score-10               17562 non-null  object\n",
      " 89  Score-9                17562 non-null  object\n",
      " 90  Score-8                17562 non-null  object\n",
      " 91  Score-7                17562 non-null  object\n",
      " 92  Score-6                17562 non-null  object\n",
      " 93  Score-5                17562 non-null  object\n",
      " 94  Score-4                17562 non-null  object\n",
      " 95  Score-3                17562 non-null  object\n",
      " 96  Score-2                17562 non-null  object\n",
      " 97  Score-1                17562 non-null  object\n",
      " 98  High Score Percentage  17562 non-null  object\n",
      "dtypes: int64(9), object(90)\n",
      "memory usage: 13.3+ MB\n"
     ]
    }
   ],
   "source": [
    "animeDF.info()"
   ]
  },
  {
   "cell_type": "code",
   "execution_count": 4,
   "id": "a5a6a0bf",
   "metadata": {},
   "outputs": [
    {
     "data": {
      "text/html": [
       "<div>\n",
       "<style scoped>\n",
       "    .dataframe tbody tr th:only-of-type {\n",
       "        vertical-align: middle;\n",
       "    }\n",
       "\n",
       "    .dataframe tbody tr th {\n",
       "        vertical-align: top;\n",
       "    }\n",
       "\n",
       "    .dataframe thead th {\n",
       "        text-align: right;\n",
       "    }\n",
       "</style>\n",
       "<table border=\"1\" class=\"dataframe\">\n",
       "  <thead>\n",
       "    <tr style=\"text-align: right;\">\n",
       "      <th></th>\n",
       "      <th>MAL_ID</th>\n",
       "      <th>Name</th>\n",
       "      <th>Score</th>\n",
       "      <th>Genres</th>\n",
       "      <th>Genre 1</th>\n",
       "      <th>Genre2</th>\n",
       "      <th>Genre 2</th>\n",
       "      <th>Genre3</th>\n",
       "      <th>Genre 3</th>\n",
       "      <th>Genre4</th>\n",
       "      <th>...</th>\n",
       "      <th>Score-9</th>\n",
       "      <th>Score-8</th>\n",
       "      <th>Score-7</th>\n",
       "      <th>Score-6</th>\n",
       "      <th>Score-5</th>\n",
       "      <th>Score-4</th>\n",
       "      <th>Score-3</th>\n",
       "      <th>Score-2</th>\n",
       "      <th>Score-1</th>\n",
       "      <th>High Score Percentage</th>\n",
       "    </tr>\n",
       "  </thead>\n",
       "  <tbody>\n",
       "    <tr>\n",
       "      <th>0</th>\n",
       "      <td>1</td>\n",
       "      <td>Cowboy Bebop</td>\n",
       "      <td>8.78</td>\n",
       "      <td>Action, Adventure, Comedy, Drama, Sci-Fi, Space</td>\n",
       "      <td>Action</td>\n",
       "      <td>Adventure</td>\n",
       "      <td>Adventure</td>\n",
       "      <td>Comedy</td>\n",
       "      <td>Comedy</td>\n",
       "      <td>Drama</td>\n",
       "      <td>...</td>\n",
       "      <td>182126</td>\n",
       "      <td>131625</td>\n",
       "      <td>62330</td>\n",
       "      <td>20688</td>\n",
       "      <td>8904</td>\n",
       "      <td>3184</td>\n",
       "      <td>1357</td>\n",
       "      <td>741</td>\n",
       "      <td>1580</td>\n",
       "      <td>0.846060106</td>\n",
       "    </tr>\n",
       "    <tr>\n",
       "      <th>1</th>\n",
       "      <td>5</td>\n",
       "      <td>Cowboy Bebop: Tengoku no Tobira</td>\n",
       "      <td>8.39</td>\n",
       "      <td>Action, Drama, Mystery, Sci-Fi, Space</td>\n",
       "      <td>Action</td>\n",
       "      <td>Drama</td>\n",
       "      <td>Drama</td>\n",
       "      <td>Mystery</td>\n",
       "      <td>Mystery</td>\n",
       "      <td>Sci-Fi</td>\n",
       "      <td>...</td>\n",
       "      <td>49201</td>\n",
       "      <td>49505</td>\n",
       "      <td>22632</td>\n",
       "      <td>5805</td>\n",
       "      <td>1877</td>\n",
       "      <td>577</td>\n",
       "      <td>221</td>\n",
       "      <td>109</td>\n",
       "      <td>379</td>\n",
       "      <td>0.802929859</td>\n",
       "    </tr>\n",
       "    <tr>\n",
       "      <th>2</th>\n",
       "      <td>6</td>\n",
       "      <td>Trigun</td>\n",
       "      <td>8.24</td>\n",
       "      <td>Action, Sci-Fi, Adventure, Comedy, Drama, Shounen</td>\n",
       "      <td>Action</td>\n",
       "      <td>Sci-Fi</td>\n",
       "      <td>Sci-Fi</td>\n",
       "      <td>Adventure</td>\n",
       "      <td>Adventure</td>\n",
       "      <td>Comedy</td>\n",
       "      <td>...</td>\n",
       "      <td>75651</td>\n",
       "      <td>86142</td>\n",
       "      <td>49432</td>\n",
       "      <td>15376</td>\n",
       "      <td>5838</td>\n",
       "      <td>1965</td>\n",
       "      <td>664</td>\n",
       "      <td>316</td>\n",
       "      <td>533</td>\n",
       "      <td>0.740957413</td>\n",
       "    </tr>\n",
       "    <tr>\n",
       "      <th>3</th>\n",
       "      <td>7</td>\n",
       "      <td>Witch Hunter Robin</td>\n",
       "      <td>7.27</td>\n",
       "      <td>Action, Mystery, Police, Supernatural, Drama, ...</td>\n",
       "      <td>Action</td>\n",
       "      <td>Mystery</td>\n",
       "      <td>Mystery</td>\n",
       "      <td>Police</td>\n",
       "      <td>Police</td>\n",
       "      <td>Supernatural</td>\n",
       "      <td>...</td>\n",
       "      <td>4806</td>\n",
       "      <td>10128</td>\n",
       "      <td>11618</td>\n",
       "      <td>5709</td>\n",
       "      <td>2920</td>\n",
       "      <td>1083</td>\n",
       "      <td>353</td>\n",
       "      <td>164</td>\n",
       "      <td>131</td>\n",
       "      <td>0.437816545</td>\n",
       "    </tr>\n",
       "    <tr>\n",
       "      <th>4</th>\n",
       "      <td>8</td>\n",
       "      <td>Bouken Ou Beet</td>\n",
       "      <td>6.98</td>\n",
       "      <td>Adventure, Fantasy, Shounen, Supernatural</td>\n",
       "      <td>Adventure</td>\n",
       "      <td>Fantasy</td>\n",
       "      <td>Fantasy</td>\n",
       "      <td>Shounen</td>\n",
       "      <td>Shounen</td>\n",
       "      <td>Supernatural</td>\n",
       "      <td>...</td>\n",
       "      <td>529</td>\n",
       "      <td>1242</td>\n",
       "      <td>1713</td>\n",
       "      <td>1068</td>\n",
       "      <td>634</td>\n",
       "      <td>265</td>\n",
       "      <td>83</td>\n",
       "      <td>50</td>\n",
       "      <td>27</td>\n",
       "      <td>0.351679892</td>\n",
       "    </tr>\n",
       "  </tbody>\n",
       "</table>\n",
       "<p>5 rows × 99 columns</p>\n",
       "</div>"
      ],
      "text/plain": [
       "   MAL_ID                             Name Score  \\\n",
       "0       1                     Cowboy Bebop  8.78   \n",
       "1       5  Cowboy Bebop: Tengoku no Tobira  8.39   \n",
       "2       6                           Trigun  8.24   \n",
       "3       7               Witch Hunter Robin  7.27   \n",
       "4       8                   Bouken Ou Beet  6.98   \n",
       "\n",
       "                                              Genres    Genre 1      Genre2  \\\n",
       "0    Action, Adventure, Comedy, Drama, Sci-Fi, Space     Action   Adventure   \n",
       "1              Action, Drama, Mystery, Sci-Fi, Space     Action       Drama   \n",
       "2  Action, Sci-Fi, Adventure, Comedy, Drama, Shounen     Action      Sci-Fi   \n",
       "3  Action, Mystery, Police, Supernatural, Drama, ...     Action     Mystery   \n",
       "4          Adventure, Fantasy, Shounen, Supernatural  Adventure     Fantasy   \n",
       "\n",
       "     Genre 2      Genre3    Genre 3         Genre4  ... Score-9 Score-8  \\\n",
       "0  Adventure      Comedy     Comedy          Drama  ...  182126  131625   \n",
       "1      Drama     Mystery    Mystery         Sci-Fi  ...   49201   49505   \n",
       "2     Sci-Fi   Adventure  Adventure         Comedy  ...   75651   86142   \n",
       "3    Mystery      Police     Police   Supernatural  ...    4806   10128   \n",
       "4    Fantasy     Shounen    Shounen   Supernatural  ...     529    1242   \n",
       "\n",
       "  Score-7 Score-6 Score-5 Score-4 Score-3 Score-2 Score-1  \\\n",
       "0   62330   20688    8904    3184    1357     741    1580   \n",
       "1   22632    5805    1877     577     221     109     379   \n",
       "2   49432   15376    5838    1965     664     316     533   \n",
       "3   11618    5709    2920    1083     353     164     131   \n",
       "4    1713    1068     634     265      83      50      27   \n",
       "\n",
       "  High Score Percentage  \n",
       "0           0.846060106  \n",
       "1           0.802929859  \n",
       "2           0.740957413  \n",
       "3           0.437816545  \n",
       "4           0.351679892  \n",
       "\n",
       "[5 rows x 99 columns]"
      ]
     },
     "execution_count": 4,
     "metadata": {},
     "output_type": "execute_result"
    }
   ],
   "source": [
    "animeDF.head()"
   ]
  },
  {
   "cell_type": "markdown",
   "id": "b10e31ca",
   "metadata": {},
   "source": [
    "## EXPLORATORY DATA ANALYSIS"
   ]
  },
  {
   "cell_type": "code",
   "execution_count": 5,
   "id": "818fa1ce",
   "metadata": {},
   "outputs": [
    {
     "data": {
      "text/plain": [
       "0"
      ]
     },
     "execution_count": 5,
     "metadata": {},
     "output_type": "execute_result"
    }
   ],
   "source": [
    "#AGE RATING DISTRIBUTION\n",
    "\n",
    "#WHICH STUDIO PRODUCED THE MOST ANIME?\n",
    "\n",
    "animeDF['Rating'].isna().sum() #checking for NaN values"
   ]
  },
  {
   "cell_type": "code",
   "execution_count": 6,
   "id": "c3f96d1d",
   "metadata": {},
   "outputs": [
    {
     "data": {
      "text/plain": [
       "count                         16874\n",
       "unique                            6\n",
       "top       PG-13 - Teens 13 or older\n",
       "freq                           6132\n",
       "Name: Rating, dtype: object"
      ]
     },
     "execution_count": 6,
     "metadata": {},
     "output_type": "execute_result"
    }
   ],
   "source": [
    "#REMOVING UNKNOWN VALUES IN RATINGS\n",
    "\n",
    "StudiosDF = animeDF[animeDF['Rating'] != 'Unknown'] \n",
    "StudiosDF['Rating'].describe()"
   ]
  },
  {
   "cell_type": "code",
   "execution_count": 7,
   "id": "9b93171d",
   "metadata": {},
   "outputs": [],
   "source": [
    "#REMOVING HENTAI IN RATINGS\n",
    "\n",
    "StudiosDF1 = StudiosDF[StudiosDF['Rating'] != 'Rx - Hentai'] "
   ]
  },
  {
   "cell_type": "code",
   "execution_count": 8,
   "id": "84184fba",
   "metadata": {},
   "outputs": [
    {
     "name": "stdout",
     "output_type": "stream",
     "text": [
      "{'PG-13 - Teens 13 or older': 6132, 'G - All Ages': 5782, 'PG - Children': 1461, 'R - 17+ (violence & profanity)': 1157, 'R+ - Mild Nudity': 997}\n"
     ]
    }
   ],
   "source": [
    "#PRINTING OUT ALL UNIQUE RATINGS\n",
    "\n",
    "n = 5\n",
    "Ratings = StudiosDF1['Rating'].value_counts()[:n].to_dict()\n",
    "print(Ratings)"
   ]
  },
  {
   "cell_type": "code",
   "execution_count": 9,
   "id": "20da6b40",
   "metadata": {},
   "outputs": [
    {
     "data": {
      "image/png": "[encoded data removed]",
      "text/plain": [
       "<Figure size 576x432 with 1 Axes>"
      ]
     },
     "metadata": {},
     "output_type": "display_data"
    }
   ],
   "source": [
    "#HIST PLOT FOR RATINGS\n",
    "\n",
    "fig = plt.figure(figsize=(8,6)) #sets a different size (inches wide, inches tall)\n",
    "ax = plt.subplot(111)\n",
    "c = ['teal', 'lightcoral',  'steelblue', 'orchid', 'cadetblue']\n",
    "width=2.0\n",
    "ax.bar(range(0,len(Ratings.keys())), Ratings.values(), width=width/2, color = c)\n",
    "ax.set_xticks(np.arange(0,len(Ratings.keys())) + width/30)\n",
    "ax.set_xticklabels(Ratings.keys())\n",
    "\n",
    "locs, labels = plt.xticks() #gets labels\n",
    "plt.setp(labels, rotation=90) #sets rotation of the labels\n",
    "\n",
    "plt.show()"
   ]
  },
  {
   "cell_type": "markdown",
   "id": "46ad3f35",
   "metadata": {},
   "source": [
    "## ANALYSIS ON RATINGS"
   ]
  },
  {
   "cell_type": "code",
   "execution_count": 38,
   "id": "7c20b063",
   "metadata": {},
   "outputs": [
    {
     "data": {
      "text/html": [
       "<div>\n",
       "<style scoped>\n",
       "    .dataframe tbody tr th:only-of-type {\n",
       "        vertical-align: middle;\n",
       "    }\n",
       "\n",
       "    .dataframe tbody tr th {\n",
       "        vertical-align: top;\n",
       "    }\n",
       "\n",
       "    .dataframe thead th {\n",
       "        text-align: right;\n",
       "    }\n",
       "</style>\n",
       "<table border=\"1\" class=\"dataframe\">\n",
       "  <thead>\n",
       "    <tr style=\"text-align: right;\">\n",
       "      <th></th>\n",
       "      <th>Count</th>\n",
       "    </tr>\n",
       "  </thead>\n",
       "  <tbody>\n",
       "    <tr>\n",
       "      <th>PG-13 - Teens 13 or older</th>\n",
       "      <td>6132</td>\n",
       "    </tr>\n",
       "    <tr>\n",
       "      <th>G - All Ages</th>\n",
       "      <td>5782</td>\n",
       "    </tr>\n",
       "    <tr>\n",
       "      <th>PG - Children</th>\n",
       "      <td>1461</td>\n",
       "    </tr>\n",
       "    <tr>\n",
       "      <th>R - 17+ (violence &amp; profanity)</th>\n",
       "      <td>1157</td>\n",
       "    </tr>\n",
       "    <tr>\n",
       "      <th>R+ - Mild Nudity</th>\n",
       "      <td>997</td>\n",
       "    </tr>\n",
       "  </tbody>\n",
       "</table>\n",
       "</div>"
      ],
      "text/plain": [
       "                                Count\n",
       "PG-13 - Teens 13 or older        6132\n",
       "G - All Ages                     5782\n",
       "PG - Children                    1461\n",
       "R - 17+ (violence & profanity)   1157\n",
       "R+ - Mild Nudity                  997"
      ]
     },
     "execution_count": 38,
     "metadata": {},
     "output_type": "execute_result"
    }
   ],
   "source": [
    "#DISPLAYING THE COUNTS \n",
    "\n",
    "Ratingscount = pd.DataFrame.from_dict(Ratings, orient='index')\n",
    "Ratingscount.rename(columns = {0: 'Count'}, inplace = True)\n",
    "Ratingscount"
   ]
  },
  {
   "cell_type": "code",
   "execution_count": 10,
   "id": "fc6028d3",
   "metadata": {},
   "outputs": [
    {
     "name": "stderr",
     "output_type": "stream",
     "text": [
      "/opt/anaconda3/lib/python3.9/site-packages/IPython/core/interactiveshell.py:3444: DtypeWarning: Columns (19,20,21,22,23,24,25,26,27,28,48,49,50,51,52,53,54,55,58,59,60,67,68,69,70,71,72,73,74,87,88) have mixed types.Specify dtype option on import or set low_memory=False.\n",
      "  exec(code_obj, self.user_global_ns, self.user_ns)\n"
     ]
    }
   ],
   "source": [
    "#IMPORTING ANIME.CSV\n",
    "\n",
    "animeDF = pd.read_csv('anime.csv')"
   ]
  },
  {
   "cell_type": "code",
   "execution_count": 11,
   "id": "6e1f2a54",
   "metadata": {},
   "outputs": [],
   "source": [
    "#CREATING RATINGSDF, WITH ONLY RATINGS AND COMPLETION PERCENTAGE AS INPUTS\n",
    "\n",
    "ratingsDF = animeDF[['Rating','Completion Percentage']]"
   ]
  },
  {
   "cell_type": "code",
   "execution_count": 12,
   "id": "c9407375",
   "metadata": {},
   "outputs": [
    {
     "data": {
      "text/html": [
       "<div>\n",
       "<style scoped>\n",
       "    .dataframe tbody tr th:only-of-type {\n",
       "        vertical-align: middle;\n",
       "    }\n",
       "\n",
       "    .dataframe tbody tr th {\n",
       "        vertical-align: top;\n",
       "    }\n",
       "\n",
       "    .dataframe thead th {\n",
       "        text-align: right;\n",
       "    }\n",
       "</style>\n",
       "<table border=\"1\" class=\"dataframe\">\n",
       "  <thead>\n",
       "    <tr style=\"text-align: right;\">\n",
       "      <th></th>\n",
       "      <th>Rating</th>\n",
       "      <th>Completion Percentage</th>\n",
       "    </tr>\n",
       "  </thead>\n",
       "  <tbody>\n",
       "    <tr>\n",
       "      <th>count</th>\n",
       "      <td>17562</td>\n",
       "      <td>17562</td>\n",
       "    </tr>\n",
       "    <tr>\n",
       "      <th>unique</th>\n",
       "      <td>7</td>\n",
       "      <td>14934</td>\n",
       "    </tr>\n",
       "    <tr>\n",
       "      <th>top</th>\n",
       "      <td>PG-13 - Teens 13 or older</td>\n",
       "      <td>#DIV/0!</td>\n",
       "    </tr>\n",
       "    <tr>\n",
       "      <th>freq</th>\n",
       "      <td>6132</td>\n",
       "      <td>295</td>\n",
       "    </tr>\n",
       "  </tbody>\n",
       "</table>\n",
       "</div>"
      ],
      "text/plain": [
       "                           Rating Completion Percentage\n",
       "count                       17562                 17562\n",
       "unique                          7                 14934\n",
       "top     PG-13 - Teens 13 or older               #DIV/0!\n",
       "freq                         6132                   295"
      ]
     },
     "execution_count": 12,
     "metadata": {},
     "output_type": "execute_result"
    }
   ],
   "source": [
    "ratingsDF.describe()"
   ]
  },
  {
   "cell_type": "code",
   "execution_count": 13,
   "id": "b512fbc2",
   "metadata": {},
   "outputs": [],
   "source": [
    "#REMOVING 'RX-HENTAI' DUE TO ITS LARGE UNKNOWN VALUE COUNTS AS WELL AS INAPPROPRIATENESS\n",
    "\n",
    "ratingsDFClean = ratingsDF[ratingsDF['Rating'] != 'Rx - Hentai']"
   ]
  },
  {
   "cell_type": "code",
   "execution_count": 14,
   "id": "7c6b2f05",
   "metadata": {},
   "outputs": [],
   "source": [
    "#REMOVING ALL ROWS WITH UNKNOWN VALUES\n",
    "\n",
    "ratingsDFClean = ratingsDFClean[ratingsDFClean['Rating'] != 'Unknown'] "
   ]
  },
  {
   "cell_type": "code",
   "execution_count": 15,
   "id": "e5f90bfe",
   "metadata": {},
   "outputs": [],
   "source": [
    "#REMOVING '#DIV/0' VALUES IN COMPLETION PERCENTAGE\n",
    "\n",
    "ratingsDFClean = ratingsDFClean[ratingsDFClean['Completion Percentage'] != '#DIV/0!'] "
   ]
  },
  {
   "cell_type": "code",
   "execution_count": 16,
   "id": "1e728460",
   "metadata": {},
   "outputs": [],
   "source": [
    "#CHANGING 'COMPLETION PERCENTAGE' TO NUMERIC VALUES\n",
    "\n",
    "ratingsDFClean['Completion Percentage'] = pd.to_numeric(ratingsDFClean['Completion Percentage'])"
   ]
  },
  {
   "cell_type": "code",
   "execution_count": 17,
   "id": "18b5fa3a",
   "metadata": {},
   "outputs": [
    {
     "data": {
      "text/html": [
       "<div>\n",
       "<style scoped>\n",
       "    .dataframe tbody tr th:only-of-type {\n",
       "        vertical-align: middle;\n",
       "    }\n",
       "\n",
       "    .dataframe tbody tr th {\n",
       "        vertical-align: top;\n",
       "    }\n",
       "\n",
       "    .dataframe thead th {\n",
       "        text-align: right;\n",
       "    }\n",
       "</style>\n",
       "<table border=\"1\" class=\"dataframe\">\n",
       "  <thead>\n",
       "    <tr style=\"text-align: right;\">\n",
       "      <th></th>\n",
       "      <th>Completion Percentage</th>\n",
       "    </tr>\n",
       "  </thead>\n",
       "  <tbody>\n",
       "    <tr>\n",
       "      <th>count</th>\n",
       "      <td>15434.000000</td>\n",
       "    </tr>\n",
       "    <tr>\n",
       "      <th>mean</th>\n",
       "      <td>0.791946</td>\n",
       "    </tr>\n",
       "    <tr>\n",
       "      <th>std</th>\n",
       "      <td>0.201781</td>\n",
       "    </tr>\n",
       "    <tr>\n",
       "      <th>min</th>\n",
       "      <td>0.000000</td>\n",
       "    </tr>\n",
       "    <tr>\n",
       "      <th>25%</th>\n",
       "      <td>0.697348</td>\n",
       "    </tr>\n",
       "    <tr>\n",
       "      <th>50%</th>\n",
       "      <td>0.864865</td>\n",
       "    </tr>\n",
       "    <tr>\n",
       "      <th>75%</th>\n",
       "      <td>0.939782</td>\n",
       "    </tr>\n",
       "    <tr>\n",
       "      <th>max</th>\n",
       "      <td>1.000000</td>\n",
       "    </tr>\n",
       "  </tbody>\n",
       "</table>\n",
       "</div>"
      ],
      "text/plain": [
       "       Completion Percentage\n",
       "count           15434.000000\n",
       "mean                0.791946\n",
       "std                 0.201781\n",
       "min                 0.000000\n",
       "25%                 0.697348\n",
       "50%                 0.864865\n",
       "75%                 0.939782\n",
       "max                 1.000000"
      ]
     },
     "execution_count": 17,
     "metadata": {},
     "output_type": "execute_result"
    }
   ],
   "source": [
    "ratingsDFClean.describe()"
   ]
  },
  {
   "cell_type": "code",
   "execution_count": 18,
   "id": "44408232",
   "metadata": {},
   "outputs": [
    {
     "name": "stdout",
     "output_type": "stream",
     "text": [
      "<class 'pandas.core.frame.DataFrame'>\n",
      "Int64Index: 15434 entries, 0 to 17560\n",
      "Data columns (total 2 columns):\n",
      " #   Column                 Non-Null Count  Dtype  \n",
      "---  ------                 --------------  -----  \n",
      " 0   Rating                 15434 non-null  object \n",
      " 1   Completion Percentage  15434 non-null  float64\n",
      "dtypes: float64(1), object(1)\n",
      "memory usage: 361.7+ KB\n"
     ]
    }
   ],
   "source": [
    "ratingsDFClean.info()"
   ]
  },
  {
   "cell_type": "code",
   "execution_count": 19,
   "id": "6350db12",
   "metadata": {},
   "outputs": [
    {
     "data": {
      "image/png": "[encoded data removed]",
      "text/plain": [
       "<Figure size 432x288 with 1 Axes>"
      ]
     },
     "metadata": {},
     "output_type": "display_data"
    }
   ],
   "source": [
    "#SCATTER PLOT BEFORE KMODES CLUSTERING\n",
    "\n",
    "plt.scatter(ratingsDFClean['Completion Percentage'],ratingsDFClean['Rating'])\n",
    "plt.xlim(0,1)\n",
    "plt.ylim(-1,4.5)\n",
    "plt.show()"
   ]
  },
  {
   "cell_type": "markdown",
   "id": "d28b0e6c",
   "metadata": {},
   "source": [
    "## ENCODING"
   ]
  },
  {
   "cell_type": "code",
   "execution_count": 20,
   "id": "cff9e85e",
   "metadata": {},
   "outputs": [
    {
     "data": {
      "text/plain": [
       "array(['R - 17+ (violence & profanity)', 'PG-13 - Teens 13 or older',\n",
       "       'PG - Children', 'R+ - Mild Nudity', 'G - All Ages'], dtype=object)"
      ]
     },
     "execution_count": 20,
     "metadata": {},
     "output_type": "execute_result"
    }
   ],
   "source": [
    "ratingsDFClean['Rating'].unique()"
   ]
  },
  {
   "cell_type": "code",
   "execution_count": 21,
   "id": "bc15b03b",
   "metadata": {},
   "outputs": [
    {
     "name": "stdout",
     "output_type": "stream",
     "text": [
      "[3 3 2 ... 2 2 2]\n",
      "multiclass\n",
      "multiclass\n",
      "multiclass\n"
     ]
    }
   ],
   "source": [
    "#LABEL ENCODING RATINGS COLUMN VALUES TO BECOME MULTICLASS FOR KMODES ANALYSIS\n",
    "\n",
    "lab_enc = preprocessing.LabelEncoder()\n",
    "ratings_encoded = lab_enc.fit_transform(ratingsDFClean['Rating'])\n",
    "print(ratings_encoded)\n",
    "print(utils.multiclass.type_of_target(ratings_encoded))\n",
    "print(utils.multiclass.type_of_target(ratings_encoded.astype('int')))\n",
    "print(utils.multiclass.type_of_target(ratings_encoded))"
   ]
  },
  {
   "cell_type": "code",
   "execution_count": 22,
   "id": "0fc1d937",
   "metadata": {},
   "outputs": [],
   "source": [
    "#INITIALISE X AND Y\n",
    "\n",
    "X = ratings_encoded.reshape(-1,1)\n",
    "y = ratingsDFClean['Completion Percentage']"
   ]
  },
  {
   "cell_type": "markdown",
   "id": "8601a270",
   "metadata": {},
   "source": [
    "## ELBOW TEST FOR APPROPRIATE K-MODES VALUE"
   ]
  },
  {
   "cell_type": "code",
   "execution_count": 23,
   "id": "732237d7",
   "metadata": {},
   "outputs": [
    {
     "name": "stdout",
     "output_type": "stream",
     "text": [
      "Init: initializing centroids\n",
      "Init: initializing clusters\n",
      "Starting iterations...\n",
      "Run 1, iteration: 1/100, moves: 0, cost: 9361.0\n",
      "Init: initializing centroids\n",
      "Init: initializing clusters\n",
      "Starting iterations...\n",
      "Run 2, iteration: 1/100, moves: 0, cost: 9361.0\n",
      "Init: initializing centroids\n",
      "Init: initializing clusters\n",
      "Starting iterations...\n",
      "Run 3, iteration: 1/100, moves: 0, cost: 9361.0\n",
      "Init: initializing centroids\n",
      "Init: initializing clusters\n",
      "Starting iterations...\n",
      "Run 4, iteration: 1/100, moves: 0, cost: 9361.0\n",
      "Init: initializing centroids\n",
      "Init: initializing clusters\n",
      "Starting iterations...\n",
      "Run 5, iteration: 1/100, moves: 0, cost: 9361.0\n",
      "Best run was number 1\n",
      "Init: initializing centroids\n",
      "Init: initializing clusters\n",
      "Starting iterations...\n",
      "Run 1, iteration: 1/100, moves: 0, cost: 3588.0\n",
      "Init: initializing centroids\n",
      "Init: initializing clusters\n",
      "Starting iterations...\n",
      "Run 2, iteration: 1/100, moves: 0, cost: 9361.0\n",
      "Init: initializing centroids\n",
      "Init: initializing clusters\n",
      "Starting iterations...\n",
      "Run 3, iteration: 1/100, moves: 0, cost: 3588.0\n",
      "Init: initializing centroids\n",
      "Init: initializing clusters\n",
      "Starting iterations...\n",
      "Run 4, iteration: 1/100, moves: 0, cost: 3588.0\n",
      "Init: initializing centroids\n",
      "Init: initializing clusters\n",
      "Starting iterations...\n",
      "Run 5, iteration: 1/100, moves: 0, cost: 8368.0\n",
      "Best run was number 1\n",
      "Init: initializing centroids\n",
      "Init: initializing clusters\n",
      "Starting iterations...\n",
      "Run 1, iteration: 1/100, moves: 0, cost: 2441.0\n",
      "Init: initializing centroids\n",
      "Init: initializing clusters\n",
      "Starting iterations...\n",
      "Run 2, iteration: 1/100, moves: 0, cost: 3588.0\n",
      "Init: initializing centroids\n",
      "Init: initializing clusters\n",
      "Starting iterations...\n",
      "Run 3, iteration: 1/100, moves: 1147, cost: 2441.0\n",
      "Init: initializing centroids\n",
      "Init: initializing clusters\n",
      "Starting iterations...\n",
      "Run 4, iteration: 1/100, moves: 5773, cost: 3588.0\n",
      "Init: initializing centroids\n",
      "Init: initializing clusters\n",
      "Starting iterations...\n",
      "Run 5, iteration: 1/100, moves: 0, cost: 9361.0\n",
      "Best run was number 1\n",
      "Init: initializing centroids\n",
      "Init: initializing clusters\n",
      "Starting iterations...\n",
      "Run 1, iteration: 1/100, moves: 5773, cost: 2595.0\n",
      "Init: initializing centroids\n",
      "Init: initializing clusters\n",
      "Starting iterations...\n",
      "Run 2, iteration: 1/100, moves: 0, cost: 993.0\n",
      "Init: initializing centroids\n",
      "Init: initializing clusters\n",
      "Starting iterations...\n",
      "Run 3, iteration: 1/100, moves: 0, cost: 1448.0\n",
      "Init: initializing centroids\n",
      "Init: initializing clusters\n",
      "Starting iterations...\n",
      "Run 4, iteration: 1/100, moves: 0, cost: 3588.0\n",
      "Init: initializing centroids\n",
      "Init: initializing clusters\n",
      "Starting iterations...\n",
      "Run 5, iteration: 1/100, moves: 0, cost: 3588.0\n",
      "Best run was number 2\n"
     ]
    },
    {
     "data": {
      "image/png": "[encoded data removed]",
      "text/plain": [
       "<Figure size 432x288 with 1 Axes>"
      ]
     },
     "metadata": {},
     "output_type": "display_data"
    }
   ],
   "source": [
    "#ELBOW CURVE TEST TO DETERMINE APPROPRIATE K-VALUE\n",
    "\n",
    "cost = []\n",
    "K = range(1,5)\n",
    "for num_clusters in list(K):\n",
    "    kmode = KModes(n_clusters=num_clusters, init = \"random\", n_init = 5, verbose=1)\n",
    "    kmode.fit_predict(X)\n",
    "    cost.append(kmode.cost_)\n",
    "    \n",
    "plt.plot(K, cost, 'bx-')\n",
    "plt.xlabel('No. of clusters')\n",
    "plt.ylabel('Cost')\n",
    "plt.title('Elbow Method For Optimal k')\n",
    "plt.show()"
   ]
  },
  {
   "cell_type": "markdown",
   "id": "dc717c98",
   "metadata": {},
   "source": [
    "## K-MODES ALGORITHM"
   ]
  },
  {
   "cell_type": "code",
   "execution_count": 24,
   "id": "26538ca5",
   "metadata": {},
   "outputs": [
    {
     "name": "stdout",
     "output_type": "stream",
     "text": [
      "Init: initializing centroids\n",
      "Init: initializing clusters\n",
      "Starting iterations...\n",
      "Run 1, iteration: 1/100, moves: 0, cost: 2595.0\n",
      "Init: initializing centroids\n",
      "Init: initializing clusters\n",
      "Starting iterations...\n",
      "Run 2, iteration: 1/100, moves: 0, cost: 3588.0\n",
      "Init: initializing centroids\n",
      "Init: initializing clusters\n",
      "Starting iterations...\n",
      "Run 3, iteration: 1/100, moves: 0, cost: 2441.0\n",
      "Init: initializing centroids\n",
      "Init: initializing clusters\n",
      "Starting iterations...\n",
      "Run 4, iteration: 1/100, moves: 0, cost: 3588.0\n",
      "Init: initializing centroids\n",
      "Init: initializing clusters\n",
      "Starting iterations...\n",
      "Run 5, iteration: 1/100, moves: 0, cost: 3588.0\n",
      "Best run was number 3\n"
     ]
    },
    {
     "data": {
      "text/plain": [
       "array([1, 1, 0, ..., 0, 0, 0], dtype=uint16)"
      ]
     },
     "execution_count": 24,
     "metadata": {},
     "output_type": "execute_result"
    }
   ],
   "source": [
    "#BUILDING MODELS WITH 3 CLUSTERS\n",
    "\n",
    "kmode = KModes(n_clusters=3, init = \"random\", n_init = 5, verbose=1)\n",
    "clusters = kmode.fit_predict(X)\n",
    "clusters"
   ]
  },
  {
   "cell_type": "code",
   "execution_count": 25,
   "id": "ec3918ff",
   "metadata": {},
   "outputs": [],
   "source": [
    "#APPENDING CLUSTERS TO RATINGS DATAFRAME\n",
    "\n",
    "ratingsDFClean.insert(0, \"Cluster\", clusters, True)"
   ]
  },
  {
   "cell_type": "code",
   "execution_count": 26,
   "id": "e4835415",
   "metadata": {},
   "outputs": [
    {
     "data": {
      "image/png": "[encoded data removed]",
      "text/plain": [
       "<Figure size 432x288 with 1 Axes>"
      ]
     },
     "metadata": {},
     "output_type": "display_data"
    }
   ],
   "source": [
    "#NEW SCATTER PLOT AFTER KMODES CLUSTERING\n",
    "\n",
    "data_with_clusters = ratingsDFClean.copy()\n",
    "data_with_clusters['Clusters'] = clusters \n",
    "plt.scatter(data_with_clusters['Completion Percentage'],data_with_clusters['Rating'],c=data_with_clusters['Clusters'],cmap='rainbow')\n",
    "plt.yticks([])\n",
    "plt.show()"
   ]
  },
  {
   "cell_type": "code",
   "execution_count": 27,
   "id": "f46320ca",
   "metadata": {},
   "outputs": [
    {
     "data": {
      "text/html": [
       "<div>\n",
       "<style scoped>\n",
       "    .dataframe tbody tr th:only-of-type {\n",
       "        vertical-align: middle;\n",
       "    }\n",
       "\n",
       "    .dataframe tbody tr th {\n",
       "        vertical-align: top;\n",
       "    }\n",
       "\n",
       "    .dataframe thead th {\n",
       "        text-align: right;\n",
       "    }\n",
       "</style>\n",
       "<table border=\"1\" class=\"dataframe\">\n",
       "  <thead>\n",
       "    <tr style=\"text-align: right;\">\n",
       "      <th></th>\n",
       "      <th>Cluster</th>\n",
       "      <th>Rating</th>\n",
       "      <th>Completion Percentage</th>\n",
       "    </tr>\n",
       "  </thead>\n",
       "  <tbody>\n",
       "    <tr>\n",
       "      <th>0</th>\n",
       "      <td>1</td>\n",
       "      <td>R - 17+ (violence &amp; profanity)</td>\n",
       "      <td>0.879720</td>\n",
       "    </tr>\n",
       "    <tr>\n",
       "      <th>1</th>\n",
       "      <td>1</td>\n",
       "      <td>R - 17+ (violence &amp; profanity)</td>\n",
       "      <td>0.987182</td>\n",
       "    </tr>\n",
       "    <tr>\n",
       "      <th>2</th>\n",
       "      <td>0</td>\n",
       "      <td>PG-13 - Teens 13 or older</td>\n",
       "      <td>0.897122</td>\n",
       "    </tr>\n",
       "    <tr>\n",
       "      <th>3</th>\n",
       "      <td>0</td>\n",
       "      <td>PG-13 - Teens 13 or older</td>\n",
       "      <td>0.814715</td>\n",
       "    </tr>\n",
       "    <tr>\n",
       "      <th>4</th>\n",
       "      <td>0</td>\n",
       "      <td>PG - Children</td>\n",
       "      <td>0.796038</td>\n",
       "    </tr>\n",
       "  </tbody>\n",
       "</table>\n",
       "</div>"
      ],
      "text/plain": [
       "   Cluster                          Rating  Completion Percentage\n",
       "0        1  R - 17+ (violence & profanity)               0.879720\n",
       "1        1  R - 17+ (violence & profanity)               0.987182\n",
       "2        0       PG-13 - Teens 13 or older               0.897122\n",
       "3        0       PG-13 - Teens 13 or older               0.814715\n",
       "4        0                   PG - Children               0.796038"
      ]
     },
     "execution_count": 27,
     "metadata": {},
     "output_type": "execute_result"
    }
   ],
   "source": [
    "#JUST TO ILLUSTRATE NEW DATAFRAME \n",
    "\n",
    "ratingsDFClean.head()"
   ]
  },
  {
   "cell_type": "markdown",
   "id": "c2f13efb",
   "metadata": {},
   "source": [
    "## SPLITTING INDIVIDUAL CLUSTERS WITH ANALYSIS"
   ]
  },
  {
   "cell_type": "code",
   "execution_count": 28,
   "id": "45d85d94",
   "metadata": {},
   "outputs": [
    {
     "name": "stdout",
     "output_type": "stream",
     "text": [
      "       Cluster                     Rating  Completion Percentage\n",
      "2            0  PG-13 - Teens 13 or older               0.897122\n",
      "3            0  PG-13 - Teens 13 or older               0.814715\n",
      "4            0              PG - Children               0.796038\n",
      "5            0  PG-13 - Teens 13 or older               0.752271\n",
      "6            0  PG-13 - Teens 13 or older               0.779701\n",
      "...        ...                        ...                    ...\n",
      "17538        0  PG-13 - Teens 13 or older               1.000000\n",
      "17540        0  PG-13 - Teens 13 or older               0.160000\n",
      "17549        0  PG-13 - Teens 13 or older               0.363636\n",
      "17552        0  PG-13 - Teens 13 or older               0.986045\n",
      "17560        0  PG-13 - Teens 13 or older               0.400000\n",
      "\n",
      "[8514 rows x 3 columns]\n"
     ]
    }
   ],
   "source": [
    "#CREATING CLUSTER 0 DATAFRAME WITH CLUSTER 0 VALUES\n",
    "\n",
    "Cluster0DF = ratingsDFClean.query('Cluster == 0')\n",
    "print(Cluster0DF)"
   ]
  },
  {
   "cell_type": "code",
   "execution_count": 29,
   "id": "3ff98fa2",
   "metadata": {},
   "outputs": [
    {
     "data": {
      "text/plain": [
       "array(['PG-13 - Teens 13 or older', 'PG - Children', 'R+ - Mild Nudity'],\n",
       "      dtype=object)"
      ]
     },
     "execution_count": 29,
     "metadata": {},
     "output_type": "execute_result"
    }
   ],
   "source": [
    "#UNIQUE AGE RATINGS IN CLUSTER 0\n",
    "Cluster0DF.Rating.unique()"
   ]
  },
  {
   "cell_type": "code",
   "execution_count": 30,
   "id": "1db5f919",
   "metadata": {},
   "outputs": [
    {
     "data": {
      "text/html": [
       "<div>\n",
       "<style scoped>\n",
       "    .dataframe tbody tr th:only-of-type {\n",
       "        vertical-align: middle;\n",
       "    }\n",
       "\n",
       "    .dataframe tbody tr th {\n",
       "        vertical-align: top;\n",
       "    }\n",
       "\n",
       "    .dataframe thead th {\n",
       "        text-align: right;\n",
       "    }\n",
       "</style>\n",
       "<table border=\"1\" class=\"dataframe\">\n",
       "  <thead>\n",
       "    <tr style=\"text-align: right;\">\n",
       "      <th></th>\n",
       "      <th>Cluster</th>\n",
       "      <th>Completion Percentage</th>\n",
       "    </tr>\n",
       "  </thead>\n",
       "  <tbody>\n",
       "    <tr>\n",
       "      <th>count</th>\n",
       "      <td>8514.0</td>\n",
       "      <td>8514.000000</td>\n",
       "    </tr>\n",
       "    <tr>\n",
       "      <th>mean</th>\n",
       "      <td>0.0</td>\n",
       "      <td>0.820757</td>\n",
       "    </tr>\n",
       "    <tr>\n",
       "      <th>std</th>\n",
       "      <td>0.0</td>\n",
       "      <td>0.183817</td>\n",
       "    </tr>\n",
       "    <tr>\n",
       "      <th>min</th>\n",
       "      <td>0.0</td>\n",
       "      <td>0.000000</td>\n",
       "    </tr>\n",
       "    <tr>\n",
       "      <th>25%</th>\n",
       "      <td>0.0</td>\n",
       "      <td>0.757027</td>\n",
       "    </tr>\n",
       "    <tr>\n",
       "      <th>50%</th>\n",
       "      <td>0.0</td>\n",
       "      <td>0.885728</td>\n",
       "    </tr>\n",
       "    <tr>\n",
       "      <th>75%</th>\n",
       "      <td>0.0</td>\n",
       "      <td>0.947540</td>\n",
       "    </tr>\n",
       "    <tr>\n",
       "      <th>max</th>\n",
       "      <td>0.0</td>\n",
       "      <td>1.000000</td>\n",
       "    </tr>\n",
       "  </tbody>\n",
       "</table>\n",
       "</div>"
      ],
      "text/plain": [
       "       Cluster  Completion Percentage\n",
       "count   8514.0            8514.000000\n",
       "mean       0.0               0.820757\n",
       "std        0.0               0.183817\n",
       "min        0.0               0.000000\n",
       "25%        0.0               0.757027\n",
       "50%        0.0               0.885728\n",
       "75%        0.0               0.947540\n",
       "max        0.0               1.000000"
      ]
     },
     "execution_count": 30,
     "metadata": {},
     "output_type": "execute_result"
    }
   ],
   "source": [
    "#CLUSTER 0 STATISTICS\n",
    "Cluster0DF.describe()"
   ]
  },
  {
   "cell_type": "code",
   "execution_count": 31,
   "id": "1bc0de8e",
   "metadata": {},
   "outputs": [
    {
     "name": "stdout",
     "output_type": "stream",
     "text": [
      "       Cluster                          Rating  Completion Percentage\n",
      "0            1  R - 17+ (violence & profanity)               0.879720\n",
      "1            1  R - 17+ (violence & profanity)               0.987182\n",
      "15           1  R - 17+ (violence & profanity)               0.791165\n",
      "17           1  R - 17+ (violence & profanity)               0.827863\n",
      "21           1  R - 17+ (violence & profanity)               0.986305\n",
      "...        ...                             ...                    ...\n",
      "17494        1  R - 17+ (violence & profanity)               0.000000\n",
      "17513        1  R - 17+ (violence & profanity)               0.962311\n",
      "17519        1  R - 17+ (violence & profanity)               0.300000\n",
      "17543        1  R - 17+ (violence & profanity)               0.294118\n",
      "17544        1  R - 17+ (violence & profanity)               0.222222\n",
      "\n",
      "[1147 rows x 3 columns]\n"
     ]
    }
   ],
   "source": [
    "#CREATING CLUSTER 1 DATAFRAME WITH CLUSTER 1 VALUES\n",
    "\n",
    "Cluster1DF = ratingsDFClean.query('Cluster == 1')\n",
    "print(Cluster1DF)"
   ]
  },
  {
   "cell_type": "code",
   "execution_count": 32,
   "id": "95c6932e",
   "metadata": {},
   "outputs": [
    {
     "data": {
      "text/plain": [
       "array(['R - 17+ (violence & profanity)'], dtype=object)"
      ]
     },
     "execution_count": 32,
     "metadata": {},
     "output_type": "execute_result"
    }
   ],
   "source": [
    "#UNIQUE AGE RATINGS IN CLUSTER 1\n",
    "Cluster1DF.Rating.unique()"
   ]
  },
  {
   "cell_type": "code",
   "execution_count": 33,
   "id": "4b4aa4b4",
   "metadata": {},
   "outputs": [
    {
     "data": {
      "text/html": [
       "<div>\n",
       "<style scoped>\n",
       "    .dataframe tbody tr th:only-of-type {\n",
       "        vertical-align: middle;\n",
       "    }\n",
       "\n",
       "    .dataframe tbody tr th {\n",
       "        vertical-align: top;\n",
       "    }\n",
       "\n",
       "    .dataframe thead th {\n",
       "        text-align: right;\n",
       "    }\n",
       "</style>\n",
       "<table border=\"1\" class=\"dataframe\">\n",
       "  <thead>\n",
       "    <tr style=\"text-align: right;\">\n",
       "      <th></th>\n",
       "      <th>Cluster</th>\n",
       "      <th>Completion Percentage</th>\n",
       "    </tr>\n",
       "  </thead>\n",
       "  <tbody>\n",
       "    <tr>\n",
       "      <th>count</th>\n",
       "      <td>1147.0</td>\n",
       "      <td>1147.000000</td>\n",
       "    </tr>\n",
       "    <tr>\n",
       "      <th>mean</th>\n",
       "      <td>1.0</td>\n",
       "      <td>0.862097</td>\n",
       "    </tr>\n",
       "    <tr>\n",
       "      <th>std</th>\n",
       "      <td>0.0</td>\n",
       "      <td>0.155416</td>\n",
       "    </tr>\n",
       "    <tr>\n",
       "      <th>min</th>\n",
       "      <td>1.0</td>\n",
       "      <td>0.000000</td>\n",
       "    </tr>\n",
       "    <tr>\n",
       "      <th>25%</th>\n",
       "      <td>1.0</td>\n",
       "      <td>0.824079</td>\n",
       "    </tr>\n",
       "    <tr>\n",
       "      <th>50%</th>\n",
       "      <td>1.0</td>\n",
       "      <td>0.912369</td>\n",
       "    </tr>\n",
       "    <tr>\n",
       "      <th>75%</th>\n",
       "      <td>1.0</td>\n",
       "      <td>0.959550</td>\n",
       "    </tr>\n",
       "    <tr>\n",
       "      <th>max</th>\n",
       "      <td>1.0</td>\n",
       "      <td>1.000000</td>\n",
       "    </tr>\n",
       "  </tbody>\n",
       "</table>\n",
       "</div>"
      ],
      "text/plain": [
       "       Cluster  Completion Percentage\n",
       "count   1147.0            1147.000000\n",
       "mean       1.0               0.862097\n",
       "std        0.0               0.155416\n",
       "min        1.0               0.000000\n",
       "25%        1.0               0.824079\n",
       "50%        1.0               0.912369\n",
       "75%        1.0               0.959550\n",
       "max        1.0               1.000000"
      ]
     },
     "execution_count": 33,
     "metadata": {},
     "output_type": "execute_result"
    }
   ],
   "source": [
    "#CLUSTER 1 STATISTICS\n",
    "Cluster1DF.describe()"
   ]
  },
  {
   "cell_type": "code",
   "execution_count": 34,
   "id": "88a81032",
   "metadata": {},
   "outputs": [
    {
     "name": "stdout",
     "output_type": "stream",
     "text": [
      "       Cluster        Rating  Completion Percentage\n",
      "54           2  G - All Ages               0.908773\n",
      "82           2  G - All Ages               0.721201\n",
      "122          2  G - All Ages               0.891114\n",
      "140          2  G - All Ages               0.818306\n",
      "155          2  G - All Ages               0.839234\n",
      "...        ...           ...                    ...\n",
      "17447        2  G - All Ages               1.000000\n",
      "17448        2  G - All Ages               1.000000\n",
      "17449        2  G - All Ages               1.000000\n",
      "17452        2  G - All Ages               0.611111\n",
      "17505        2  G - All Ages               0.983871\n",
      "\n",
      "[5773 rows x 3 columns]\n"
     ]
    }
   ],
   "source": [
    "#CREATING CLUSTER 2 DATAFRAME WITH CLUSTER 2 VALUES\n",
    "\n",
    "Cluster2DF = ratingsDFClean.query('Cluster == 2')\n",
    "print(Cluster2DF)"
   ]
  },
  {
   "cell_type": "code",
   "execution_count": 35,
   "id": "d51dc65f",
   "metadata": {},
   "outputs": [
    {
     "data": {
      "text/plain": [
       "array(['G - All Ages'], dtype=object)"
      ]
     },
     "execution_count": 35,
     "metadata": {},
     "output_type": "execute_result"
    }
   ],
   "source": [
    "#UNIQUE AGE RATINGS IN CLUSTER 2\n",
    "Cluster2DF.Rating.unique()"
   ]
  },
  {
   "cell_type": "code",
   "execution_count": 36,
   "id": "4e03d71b",
   "metadata": {},
   "outputs": [
    {
     "data": {
      "text/html": [
       "<div>\n",
       "<style scoped>\n",
       "    .dataframe tbody tr th:only-of-type {\n",
       "        vertical-align: middle;\n",
       "    }\n",
       "\n",
       "    .dataframe tbody tr th {\n",
       "        vertical-align: top;\n",
       "    }\n",
       "\n",
       "    .dataframe thead th {\n",
       "        text-align: right;\n",
       "    }\n",
       "</style>\n",
       "<table border=\"1\" class=\"dataframe\">\n",
       "  <thead>\n",
       "    <tr style=\"text-align: right;\">\n",
       "      <th></th>\n",
       "      <th>Cluster</th>\n",
       "      <th>Completion Percentage</th>\n",
       "    </tr>\n",
       "  </thead>\n",
       "  <tbody>\n",
       "    <tr>\n",
       "      <th>count</th>\n",
       "      <td>5773.0</td>\n",
       "      <td>5773.000000</td>\n",
       "    </tr>\n",
       "    <tr>\n",
       "      <th>mean</th>\n",
       "      <td>2.0</td>\n",
       "      <td>0.735516</td>\n",
       "    </tr>\n",
       "    <tr>\n",
       "      <th>std</th>\n",
       "      <td>0.0</td>\n",
       "      <td>0.221013</td>\n",
       "    </tr>\n",
       "    <tr>\n",
       "      <th>min</th>\n",
       "      <td>2.0</td>\n",
       "      <td>0.000000</td>\n",
       "    </tr>\n",
       "    <tr>\n",
       "      <th>25%</th>\n",
       "      <td>2.0</td>\n",
       "      <td>0.582418</td>\n",
       "    </tr>\n",
       "    <tr>\n",
       "      <th>50%</th>\n",
       "      <td>2.0</td>\n",
       "      <td>0.802395</td>\n",
       "    </tr>\n",
       "    <tr>\n",
       "      <th>75%</th>\n",
       "      <td>2.0</td>\n",
       "      <td>0.919383</td>\n",
       "    </tr>\n",
       "    <tr>\n",
       "      <th>max</th>\n",
       "      <td>2.0</td>\n",
       "      <td>1.000000</td>\n",
       "    </tr>\n",
       "  </tbody>\n",
       "</table>\n",
       "</div>"
      ],
      "text/plain": [
       "       Cluster  Completion Percentage\n",
       "count   5773.0            5773.000000\n",
       "mean       2.0               0.735516\n",
       "std        0.0               0.221013\n",
       "min        2.0               0.000000\n",
       "25%        2.0               0.582418\n",
       "50%        2.0               0.802395\n",
       "75%        2.0               0.919383\n",
       "max        2.0               1.000000"
      ]
     },
     "execution_count": 36,
     "metadata": {},
     "output_type": "execute_result"
    }
   ],
   "source": [
    "#CLUSTER 2 STATISTICS\n",
    "Cluster2DF.describe()"
   ]
  },
  {
   "cell_type": "code",
   "execution_count": 37,
   "id": "eb9004a8",
   "metadata": {},
   "outputs": [
    {
     "data": {
      "text/plain": [
       "<AxesSubplot:xlabel='Cluster', ylabel='Completion Percentage'>"
      ]
     },
     "execution_count": 37,
     "metadata": {},
     "output_type": "execute_result"
    },
    {
     "data": {
      "image/png": "[encoded data removed]",
      "text/plain": [
       "<Figure size 432x288 with 1 Axes>"
      ]
     },
     "metadata": {},
     "output_type": "display_data"
    }
   ],
   "source": [
    "#COMBINED BOXPLOT OF THE 3 CLUSTERS\n",
    "\n",
    "sb.set_style(\"whitegrid\")\n",
    "  \n",
    "sb.boxplot(x = 'Cluster', y = 'Completion Percentage', data = ratingsDFClean)"
   ]
  },
  {
   "cell_type": "markdown",
   "id": "2316866f",
   "metadata": {},
   "source": [
    "### Cluster 2 consisting of R-17+ (Violence & Profanity) seem to be the best due to its highest Median Completion Percentage as well as it's smallest Inter-quartile Range. This is consistent with current trends, as very popular animes such as Demon Slayer, Attack on Titan and Psycho-Pass all belong to that genre."
   ]
  }
 ],
 "metadata": {
  "kernelspec": {
   "display_name": "Python 3 (ipykernel)",
   "language": "python",
   "name": "python3"
  },
  "language_info": {
   "codemirror_mode": {
    "name": "ipython",
    "version": 3
   },
   "file_extension": ".py",
   "mimetype": "text/x-python",
   "name": "python",
   "nbconvert_exporter": "python",
   "pygments_lexer": "ipython3",
   "version": "3.9.7"
  }
 },
 "nbformat": 4,
 "nbformat_minor": 5
}
