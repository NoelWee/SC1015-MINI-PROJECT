{
 "cells": [
  {
   "cell_type": "code",
   "execution_count": 1,
   "id": "022022c3",
   "metadata": {},
   "outputs": [],
   "source": [
    "# Basic Libraries\n",
    "import numpy as np\n",
    "import pandas as pd\n",
    "import seaborn as sb\n",
    "import matplotlib.pyplot as plt # we only need pyplot\n",
    "import collections\n",
    "from operator import itemgetter\n",
    "sb.set() # set the default Seaborn style for graphics"
   ]
  },
  {
   "cell_type": "code",
   "execution_count": 2,
   "id": "c1ceda53",
   "metadata": {},
   "outputs": [
    {
     "name": "stderr",
     "output_type": "stream",
     "text": [
      "/opt/anaconda3/lib/python3.9/site-packages/IPython/core/interactiveshell.py:3444: DtypeWarning: Columns (19,20,21,22,23,24,25,26,27,28,48,49,50,51,52,53,54,55,58,59,60,67,68,69,70,71,72,73,74,87,88) have mixed types.Specify dtype option on import or set low_memory=False.\n",
      "  exec(code_obj, self.user_global_ns, self.user_ns)\n"
     ]
    }
   ],
   "source": [
    "#importing anime.csv\n",
    "\n",
    "animeDF = pd.read_csv('anime.csv')"
   ]
  },
  {
   "cell_type": "code",
   "execution_count": 3,
   "id": "2c66b4d4",
   "metadata": {},
   "outputs": [
    {
     "name": "stdout",
     "output_type": "stream",
     "text": [
      "<class 'pandas.core.frame.DataFrame'>\n",
      "RangeIndex: 17562 entries, 0 to 17561\n",
      "Data columns (total 99 columns):\n",
      " #   Column                 Non-Null Count  Dtype \n",
      "---  ------                 --------------  ----- \n",
      " 0   MAL_ID                 17562 non-null  int64 \n",
      " 1   Name                   17562 non-null  object\n",
      " 2   Score                  17562 non-null  object\n",
      " 3   Genres                 17562 non-null  object\n",
      " 4   Genre 1                17562 non-null  object\n",
      " 5   Genre2                 13270 non-null  object\n",
      " 6   Genre 2                13270 non-null  object\n",
      " 7   Genre3                 9029 non-null   object\n",
      " 8   Genre 3                9029 non-null   object\n",
      " 9   Genre4                 5534 non-null   object\n",
      " 10  Genre 4                5534 non-null   object\n",
      " 11  Genre5                 2959 non-null   object\n",
      " 12  Genre 5                2959 non-null   object\n",
      " 13  Genre6                 1237 non-null   object\n",
      " 14  Genre 6                1237 non-null   object\n",
      " 15  Genre7                 439 non-null    object\n",
      " 16  Genre 7                439 non-null    object\n",
      " 17  Genre8                 143 non-null    object\n",
      " 18  Genre 8                143 non-null    object\n",
      " 19  Genre9                 58 non-null     object\n",
      " 20  Genre 9                58 non-null     object\n",
      " 21  Genre10                21 non-null     object\n",
      " 22  Genre 10               21 non-null     object\n",
      " 23  Genre11                7 non-null      object\n",
      " 24  Genre 11               7 non-null      object\n",
      " 25  Genre12                1 non-null      object\n",
      " 26  Genre 12               1 non-null      object\n",
      " 27  Genre13                1 non-null      object\n",
      " 28  Genre 13               1 non-null      object\n",
      " 29  English name           17562 non-null  object\n",
      " 30  Japanese name          17562 non-null  object\n",
      " 31  Type                   17562 non-null  object\n",
      " 32  Episodes               17562 non-null  object\n",
      " 33  Aired                  17562 non-null  object\n",
      " 34  Premiered              17562 non-null  object\n",
      " 35  Producers              17562 non-null  object\n",
      " 36  Producer 1             17562 non-null  object\n",
      " 37  Producer 2             4037 non-null   object\n",
      " 38  Producer 3             2163 non-null   object\n",
      " 39  Producer 4             1418 non-null   object\n",
      " 40  Producer 5             981 non-null    object\n",
      " 41  Producer 6             645 non-null    object\n",
      " 42  Producer 7             392 non-null    object\n",
      " 43  Producer 8             237 non-null    object\n",
      " 44  Producer 9             155 non-null    object\n",
      " 45  Producer 10            75 non-null     object\n",
      " 46  Producer 11            43 non-null     object\n",
      " 47  Producer 12            23 non-null     object\n",
      " 48  Producer 13            11 non-null     object\n",
      " 49  Producer 14            7 non-null      object\n",
      " 50  Producer 15            6 non-null      object\n",
      " 51  Producer 16            5 non-null      object\n",
      " 52  Producer 17            5 non-null      object\n",
      " 53  Producer 18            3 non-null      object\n",
      " 54  Producer 19            3 non-null      object\n",
      " 55  Producer 20            1 non-null      object\n",
      " 56  Licensors              17562 non-null  object\n",
      " 57  Licensor 1             17562 non-null  object\n",
      " 58  Licensor 2             756 non-null    object\n",
      " 59  Licensor 3             51 non-null     object\n",
      " 60  Licensor 4             5 non-null      object\n",
      " 61  Studios                17562 non-null  object\n",
      " 62  Studio 1               17562 non-null  object\n",
      " 63  Studio2                759 non-null    object\n",
      " 64  Studio 2               759 non-null    object\n",
      " 65  Studio3                46 non-null     object\n",
      " 66  Studio 3               46 non-null     object\n",
      " 67  Studio4                4 non-null      object\n",
      " 68  Studio 4               4 non-null      object\n",
      " 69  Studio5                1 non-null      object\n",
      " 70  Studio 5               1 non-null      object\n",
      " 71  Studio6                1 non-null      object\n",
      " 72  Studio 6               1 non-null      object\n",
      " 73  Studio7                1 non-null      object\n",
      " 74  Studio 7               1 non-null      object\n",
      " 75  Source                 17562 non-null  object\n",
      " 76  Duration               17562 non-null  object\n",
      " 77  Rating                 17562 non-null  object\n",
      " 78  Ranked                 17562 non-null  object\n",
      " 79  Popularity             17562 non-null  int64 \n",
      " 80  Members                17562 non-null  int64 \n",
      " 81  Favorites              17562 non-null  int64 \n",
      " 82  Watching               17562 non-null  int64 \n",
      " 83  Completed              17562 non-null  int64 \n",
      " 84  On-Hold                17562 non-null  int64 \n",
      " 85  Dropped                17562 non-null  int64 \n",
      " 86  Plan to Watch          17562 non-null  int64 \n",
      " 87  Completion Percentage  17562 non-null  object\n",
      " 88  Score-10               17562 non-null  object\n",
      " 89  Score-9                17562 non-null  object\n",
      " 90  Score-8                17562 non-null  object\n",
      " 91  Score-7                17562 non-null  object\n",
      " 92  Score-6                17562 non-null  object\n",
      " 93  Score-5                17562 non-null  object\n",
      " 94  Score-4                17562 non-null  object\n",
      " 95  Score-3                17562 non-null  object\n",
      " 96  Score-2                17562 non-null  object\n",
      " 97  Score-1                17562 non-null  object\n",
      " 98  High Score Percentage  17562 non-null  object\n",
      "dtypes: int64(9), object(90)\n",
      "memory usage: 13.3+ MB\n"
     ]
    }
   ],
   "source": [
    "animeDF.info()"
   ]
  },
  {
   "cell_type": "code",
   "execution_count": 4,
   "id": "ab43f12e",
   "metadata": {},
   "outputs": [],
   "source": [
    "#REMOVING UNWANTED COLUMNS\n",
    "\n",
    "animeDF = animeDF.drop(columns = ['Japanese name', 'Premiered', 'Members', 'Favorites', 'Popularity', 'Watching', 'Plan to Watch', 'Producers', 'Producer 1', 'Producer 2', 'Producer 3', 'Producer 4', 'Producer 5', 'Producer 6', 'Producer 7', 'Producer 8', 'Producer 9', 'Producer 10', 'Producer 11', 'Producer 12', 'Producer 13', 'Producer 14', 'Producer 15', 'Producer 16', 'Producer 17', 'Producer 18', 'Producer 19', 'Producer 20', 'Licensors', 'Licensor 1', 'Licensor 2', 'Licensor 3', 'Licensor 4', 'Genre2', 'Genre3', 'Genre4', 'Genre5', 'Genre6', 'Genre7', 'Genre8', 'Genre9', 'Genre10', 'Genre11', 'Genre12', 'Genre13', 'Studio2', 'Studio3', 'Studio4', 'Studio5', 'Studio6', 'Studio7'])"
   ]
  },
  {
   "cell_type": "markdown",
   "id": "8bdf5943",
   "metadata": {},
   "source": [
    "## EXPLORATORY DATA ANALYSIS FOR EPISODES"
   ]
  },
  {
   "cell_type": "code",
   "execution_count": 5,
   "id": "585986a1",
   "metadata": {},
   "outputs": [
    {
     "data": {
      "text/plain": [
       "0"
      ]
     },
     "execution_count": 5,
     "metadata": {},
     "output_type": "execute_result"
    }
   ],
   "source": [
    "#DISTRIBUTION ON NO. OF EPISODES\n",
    "\n",
    "animeDF['Episodes'].isna().sum() #CHECKING FOR NaN VALUES"
   ]
  },
  {
   "cell_type": "code",
   "execution_count": 6,
   "id": "e3d23177",
   "metadata": {},
   "outputs": [],
   "source": [
    "#REMOVING 'UNKNOWN' VALUES IN EPISODES\n",
    "\n",
    "EpisodesDF = animeDF[animeDF['Episodes'] != 'Unknown'] "
   ]
  },
  {
   "cell_type": "code",
   "execution_count": 7,
   "id": "d93aa79f",
   "metadata": {},
   "outputs": [
    {
     "name": "stderr",
     "output_type": "stream",
     "text": [
      "/var/folders/5m/4733_rvj5g79n334qc8796_r0000gn/T/ipykernel_8712/1193468734.py:1: SettingWithCopyWarning: \n",
      "A value is trying to be set on a copy of a slice from a DataFrame.\n",
      "Try using .loc[row_indexer,col_indexer] = value instead\n",
      "\n",
      "See the caveats in the documentation: https://pandas.pydata.org/pandas-docs/stable/user_guide/indexing.html#returning-a-view-versus-a-copy\n",
      "  EpisodesDF['Episodes'] = pd.to_numeric(EpisodesDF['Episodes'])\n"
     ]
    },
    {
     "data": {
      "text/plain": [
       "count    17046.000000\n",
       "mean        11.525519\n",
       "std         47.348640\n",
       "min          1.000000\n",
       "25%          1.000000\n",
       "50%          2.000000\n",
       "75%         12.000000\n",
       "max       3057.000000\n",
       "Name: Episodes, dtype: float64"
      ]
     },
     "execution_count": 7,
     "metadata": {},
     "output_type": "execute_result"
    }
   ],
   "source": [
    "EpisodesDF['Episodes'] = pd.to_numeric(EpisodesDF['Episodes'])\n",
    "EpisodesDF['Episodes'].describe()"
   ]
  },
  {
   "cell_type": "code",
   "execution_count": 8,
   "id": "142a63f4",
   "metadata": {},
   "outputs": [
    {
     "data": {
      "text/plain": [
       "<AxesSubplot:>"
      ]
     },
     "execution_count": 8,
     "metadata": {},
     "output_type": "execute_result"
    },
    {
     "data": {
      "image/png": "[encoded data removed]",
      "text/plain": [
       "<Figure size 1728x288 with 1 Axes>"
      ]
     },
     "metadata": {},
     "output_type": "display_data"
    }
   ],
   "source": [
    "#BOX PLOT FOR EPISODES\n",
    "\n",
    "f = plt.figure(figsize=(24, 4))\n",
    "sb.boxplot(data = EpisodesDF['Episodes'], orient = \"h\", color = 'teal') "
   ]
  },
  {
   "cell_type": "code",
   "execution_count": 9,
   "id": "e782b1a6",
   "metadata": {},
   "outputs": [
    {
     "data": {
      "text/plain": [
       "<AxesSubplot:>"
      ]
     },
     "execution_count": 9,
     "metadata": {},
     "output_type": "execute_result"
    },
    {
     "data": {
      "image/png": "[encoded data removed]",
      "text/plain": [
       "<Figure size 1152x576 with 1 Axes>"
      ]
     },
     "metadata": {},
     "output_type": "display_data"
    }
   ],
   "source": [
    "#VIOLIN PLOT FOR EPISODES\n",
    "\n",
    "f = plt.figure(figsize=(16, 8))\n",
    "sb.violinplot(data = EpisodesDF['Episodes'], orient = \"h\", color = 'maroon') "
   ]
  },
  {
   "cell_type": "code",
   "execution_count": null,
   "id": "4faa4ec1",
   "metadata": {},
   "outputs": [],
   "source": []
  }
 ],
 "metadata": {
  "kernelspec": {
   "display_name": "Python 3 (ipykernel)",
   "language": "python",
   "name": "python3"
  },
  "language_info": {
   "codemirror_mode": {
    "name": "ipython",
    "version": 3
   },
   "file_extension": ".py",
   "mimetype": "text/x-python",
   "name": "python",
   "nbconvert_exporter": "python",
   "pygments_lexer": "ipython3",
   "version": "3.9.7"
  }
 },
 "nbformat": 4,
 "nbformat_minor": 5
}
